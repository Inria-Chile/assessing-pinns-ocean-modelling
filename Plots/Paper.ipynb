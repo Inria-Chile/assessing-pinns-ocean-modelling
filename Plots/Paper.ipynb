{
 "cells": [
  {
   "cell_type": "code",
   "execution_count": 2,
   "id": "technical-valentine",
   "metadata": {
    "ExecuteTime": {
     "end_time": "2021-05-27T17:05:06.695740Z",
     "start_time": "2021-05-27T17:05:06.117303Z"
    }
   },
   "outputs": [],
   "source": [
    "import numpy as np\n",
    "import pandas as pd\n",
    "import matplotlib.pyplot as plt\n",
    "\n",
    "burgers_loss_correction = 0.37741058\n",
    "advdif_loss_correction = 1.0"
   ]
  },
  {
   "cell_type": "code",
   "execution_count": null,
   "id": "supposed-wisdom",
   "metadata": {
    "ExecuteTime": {
     "start_time": "2021-05-27T17:18:04.155Z"
    }
   },
   "outputs": [
    {
     "data": {
      "text/plain": [
       "<matplotlib.legend.Legend at 0x7fb212d1deb0>"
      ]
     },
     "execution_count": 33,
     "metadata": {},
     "output_type": "execute_result"
    }
   ],
   "source": [
    "burgers_robustness = pd.read_csv('burgers_robustness.csv')\n",
    "advdif_robustness = pd.read_csv('advdif_robustness.csv')\n",
    "\n",
    "burgers_robustness['Data loss lowest (validation)'] = np.sqrt(burgers_robustness['Data loss lowest (validation)']/burgers_loss_correction)\n",
    "advdif_robustness['Data loss lowest (validation)'] = np.sqrt(advdif_robustness['Data loss lowest (validation)']/advdif_loss_correction)\n",
    "\n",
    "\n",
    "fig, ax = plt.subplots(1,1, figsize=(12,4), constrained_layout=True, facecolor='white')\n",
    "fig.suptitle('Robustness analysis', fontsize=16)\n",
    "\n",
    "ax.set_xlabel('Model', fontsize=12)\n",
    "ax.set_ylabel('Relative error', fontsize=12)\n",
    "\n",
    "def plot(df, ax, model):    \n",
    "    x = df['alpha'].to_numpy()\n",
    "    y = df['Data loss lowest (validation)'].to_numpy()\n",
    "    ax.errorbar(model, np.mean(y[x == 0.0]), np.std(y[x == 0.0]), fmt='_--', elinewidth=2, capsize=15, ecolor='lightgrey', c='lightgrey', markeredgewidth=2, ms=20)\n",
    "    ax.errorbar(model, np.mean(y[x != 0.0]), np.std(y[x != 0.0]), fmt='_--', elinewidth=2, capsize=15, ecolor='black', c='black', markeredgewidth=2, ms=20)\n",
    "    #ax.scatter([model] * len(y[x == 0.0]), y[x == 0.0], c='lightgrey', s=5)\n",
    "    #ax.scatter([model] * len(y[x != 0.0]), y[x != 0.0], c='black', s=5)\n",
    "\n",
    "ax.set_xticks([0, 1, 2, 3])\n",
    "ax.set_xticklabels(['Burgers', 'AdvDif', 'Waves', 'ShallowWater'])\n",
    "plot(burgers_robustness, ax, 0)\n",
    "plot(advdif_robustness, ax, 1)\n",
    "\n",
    "legends = []\n",
    "legends.append(plt.Line2D([0], [0], ls='', color='lightgrey', marker='.', ms=15, label='Without physics'))\n",
    "legends.append(plt.Line2D([0], [0], ls='', color='black', marker='.', ms=15, label='With physics'))\n",
    "ax.legend(handles=legends)"
   ]
  },
  {
   "cell_type": "code",
   "execution_count": null,
   "id": "consecutive-macedonia",
   "metadata": {},
   "outputs": [],
   "source": []
  }
 ],
 "metadata": {
  "kernelspec": {
   "display_name": "Python 3",
   "language": "python",
   "name": "python3"
  },
  "language_info": {
   "codemirror_mode": {
    "name": "ipython",
    "version": 3
   },
   "file_extension": ".py",
   "mimetype": "text/x-python",
   "name": "python",
   "nbconvert_exporter": "python",
   "pygments_lexer": "ipython3",
   "version": "3.8.8"
  }
 },
 "nbformat": 4,
 "nbformat_minor": 5
}
